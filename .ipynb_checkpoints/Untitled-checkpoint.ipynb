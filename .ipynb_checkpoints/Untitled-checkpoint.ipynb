{
 "cells": [
  {
   "cell_type": "markdown",
   "metadata": {},
   "source": [
    "## Practice script for scrabble dict\n",
    "\n",
    "Process the scrabble dict to make it have no header and in upper case."
   ]
  },
  {
   "cell_type": "code",
   "execution_count": 1,
   "metadata": {
    "collapsed": false
   },
   "outputs": [
    {
     "name": "stdout",
     "output_type": "stream",
     "text": [
      "--2018-01-10 16:39:46--  https://www.wordgamedictionary.com/sowpods/download/sowpods.txt\n",
      "Resolving www.wordgamedictionary.com... 192.169.236.24\n",
      "Connecting to www.wordgamedictionary.com|192.169.236.24|:443... connected.\n",
      "HTTP request sent, awaiting response... 200 OK\n",
      "Length: unspecified [text/plain]\n",
      "Saving to: 'sowpods.txt'\n",
      "\n",
      "sowpods.txt             [  <=>               ] 678.22K  2.22MB/s    in 0.3s    \n",
      "\n",
      "2018-01-10 16:39:48 (2.22 MB/s) - 'sowpods.txt' saved [2707333]\n",
      "\n"
     ]
    }
   ],
   "source": [
    "#wget downloads a link \n",
    "!wget https://www.wordgamedictionary.com/sowpods/download/sowpods.txt"
   ]
  },
  {
   "cell_type": "code",
   "execution_count": 4,
   "metadata": {
    "collapsed": true
   },
   "outputs": [],
   "source": [
    "#have to close the files at the end\n",
    "infile = open(\"sowpods.txt\", \"r\") #read mode\n",
    "outfile = open(\"upppods.txt\", \"w\") #write mode"
   ]
  },
  {
   "cell_type": "code",
   "execution_count": 8,
   "metadata": {
    "collapsed": false
   },
   "outputs": [
    {
     "data": {
      "text/plain": [
       "'\\n'"
      ]
     },
     "execution_count": 8,
     "metadata": {},
     "output_type": "execute_result"
    }
   ],
   "source": [
    "infile.readline() #reads line by line in the file, string"
   ]
  },
  {
   "cell_type": "code",
   "execution_count": 9,
   "metadata": {
    "collapsed": true
   },
   "outputs": [],
   "source": [
    "for line in infile:\n",
    "    outfile.write(line.upper())#uppercase the string output"
   ]
  },
  {
   "cell_type": "code",
   "execution_count": 10,
   "metadata": {
    "collapsed": true
   },
   "outputs": [],
   "source": [
    "#closing files\n",
    "outfile.close()\n",
    "infile.close()"
   ]
  },
  {
   "cell_type": "code",
   "execution_count": 12,
   "metadata": {
    "collapsed": false
   },
   "outputs": [
    {
     "name": "stdout",
     "output_type": "stream",
     "text": [
      "YOU CAN ALSO FIND AN EXTENSIVE AND LARGER ENGLISH WORD LIST HERE HTTP://WWW.WORDGAMEDICTIONARY.COM/ENGLISH-WORD-LIST/DOWNLOAD/ENGLISH.TXT\r\n",
      "\r\n",
      "AA\r\n",
      "AAH\r\n",
      "AAHED\r\n",
      "AAHING\r\n",
      "AAHS\r\n",
      "AAL\r\n",
      "AALII\r\n",
      "AALIIS\r\n"
     ]
    }
   ],
   "source": [
    "!head upppods.txt"
   ]
  }
 ],
 "metadata": {
  "anaconda-cloud": {},
  "kernelspec": {
   "display_name": "Python [conda env:anaconda2]",
   "language": "python",
   "name": "conda-env-anaconda2-py"
  },
  "language_info": {
   "codemirror_mode": {
    "name": "ipython",
    "version": 2
   },
   "file_extension": ".py",
   "mimetype": "text/x-python",
   "name": "python",
   "nbconvert_exporter": "python",
   "pygments_lexer": "ipython2",
   "version": "2.7.14"
  }
 },
 "nbformat": 4,
 "nbformat_minor": 2
}
